{
  "nbformat": 4,
  "nbformat_minor": 0,
  "metadata": {
    "colab": {
      "provenance": [],
      "include_colab_link": true
    },
    "kernelspec": {
      "name": "python3",
      "display_name": "Python 3"
    },
    "language_info": {
      "name": "python"
    }
  },
  "cells": [
    {
      "cell_type": "markdown",
      "metadata": {
        "id": "view-in-github",
        "colab_type": "text"
      },
      "source": [
        "<a href=\"https://colab.research.google.com/github/Darkorem/16146-Machine_Learning-AssignmentTwo/blob/main/Assignment2_ML.ipynb\" target=\"_parent\"><img src=\"https://colab.research.google.com/assets/colab-badge.svg\" alt=\"Open In Colab\"/></a>"
      ]
    },
    {
      "cell_type": "markdown",
      "source": [
        "# CSC 4850 / 6850 / DSCI 4850 - Assisgment 2 - (350/400 points)\n",
        "\n",
        "**Total points (350 undergraduate / 400 graduate)**\n",
        "\n",
        "**Student Name: Jessica Haines**\n",
        "\n",
        "**Graduate / (***Undergraduate***) (select one)**\n",
        "\n",
        "## Instructions:\n",
        "\n",
        "You are to make a copy of this notebook on your own Google Drive (if you don't have one, get one, it is free), and use the exact format provided. Any code needs to go in the code cells, and any 'text' answer/description needs to go in the proper text cell. We will not be looking for answers randomly placed so please read the instructions.\n",
        "\n",
        "You are to use only the libraries provided in the next code cell. Any additional library is NOT allowed and will cause you to lose all the points that use said library's functions/functionality. You can use any functions given in the class code examples, but be very very careful of lifting anything \n",
        "'as-is' from the internet as it will be considerered plagiarism. \n",
        "\n",
        "**IMPORTANT: Make sure you use 1234 for your randomseed/random state. Failure to do so will make your answers not comparable to the answer key and you will get a zero on the whole assignment.**\n",
        "\n",
        "## Submission format:\n",
        "\n",
        "The submission for Assignment two will have two components:\n",
        "\n",
        "1) You are to create a PDF from the PRINT out of this notebook with all cells executed sequentially. It is the student's responsibility to be able to do this and no excuses will be accepted, no legible PDF = zero grade. So practice and test before submission time. This PDF should be named LastName_FirstName-Assignment2.PDF\n",
        "\n",
        "2) The student should create a GitHub repository for this assignment and properly title the repository Class_CODE-ClassName-AssignmentTwo. This repository should have a readme file and the Google Colab notebook in it. Note that colab can save a copy directly to GitHub so make sure you test this. Downloading the notebook file and uploading it directly will result in 200 points deduction. The link to your GitHub repository should be included as text/message in the iCollege submission drop, failure to include this link will result in a 100 point penalty. \n",
        "\n",
        "## Extra Credit for all:\n",
        "\n",
        "Any student can get 50 extra credit points by doing two simple things (you need to do BOTH):\n",
        "\n",
        "1) Make nice and pretty plots (only using the provided packages!)\n",
        "\n",
        "2) Make your GitHub repo professional (this includes your own landing page as well). Examples: https://github.com/abhisheknaiidu/awesome-github-profile-readme\n",
        "\n",
        "\n",
        "Remember that you will need a portfolio for your job search, and a professional looking repo will certainly impress recruiters/interviewers. So this is more of a favor to yourself! (yes, I follow this myself: https://github.com/jmbanda)\n"
      ],
      "metadata": {
        "id": "Uc3L9tKWVV4g"
      }
    },
    {
      "cell_type": "code",
      "execution_count": 160,
      "metadata": {
        "id": "PjGD5VGFVS-s"
      },
      "outputs": [],
      "source": [
        "############## These are the only imports allowed to solve this homework, so make sure you do not add anything else down below\n",
        "\n",
        "%matplotlib inline\n",
        "\n",
        "import numpy as np\n",
        "import pandas as pd\n",
        "import sklearn \n",
        "import numpy as np\n",
        "import matplotlib.pyplot as plt\n",
        "import seaborn as sns; sns.set()\n"
      ]
    },
    {
      "cell_type": "markdown",
      "source": [
        "Using the Wine dataset from sklearn:"
      ],
      "metadata": {
        "id": "89_ilQegV-MS"
      }
    },
    {
      "cell_type": "code",
      "source": [
        "#get the wine dataset from sklearn and take a look at the description provided\n",
        "from sklearn import datasets\n",
        "wine = datasets.load_wine()"
      ],
      "metadata": {
        "id": "J_sakm7HV90A"
      },
      "execution_count": 161,
      "outputs": []
    },
    {
      "cell_type": "markdown",
      "source": [
        "# Question 1 (10 points)\n",
        "\n",
        "What can you say about the dataset (use code to descirbe it)? any particular things of interest? Find at least two things that you find interesting."
      ],
      "metadata": {
        "id": "0TLvYCXVbHN9"
      }
    },
    {
      "cell_type": "code",
      "source": [
        "##### Code block for Question 1\n",
        "\n",
        "wine_dataframe = datasets.load_wine(as_frame = True)\n",
        "wine_dataframe.DESCR\n"
      ],
      "metadata": {
        "id": "ZIxSrPxmbGYZ",
        "colab": {
          "base_uri": "https://localhost:8080/",
          "height": 123
        },
        "outputId": "21ee8e4e-feb2-4dae-adee-dc0dc595f2d9"
      },
      "execution_count": 258,
      "outputs": [
        {
          "output_type": "execute_result",
          "data": {
            "text/plain": [
              "'.. _wine_dataset:\\n\\nWine recognition dataset\\n------------------------\\n\\n**Data Set Characteristics:**\\n\\n    :Number of Instances: 178 (50 in each of three classes)\\n    :Number of Attributes: 13 numeric, predictive attributes and the class\\n    :Attribute Information:\\n \\t\\t- Alcohol\\n \\t\\t- Malic acid\\n \\t\\t- Ash\\n\\t\\t- Alcalinity of ash  \\n \\t\\t- Magnesium\\n\\t\\t- Total phenols\\n \\t\\t- Flavanoids\\n \\t\\t- Nonflavanoid phenols\\n \\t\\t- Proanthocyanins\\n\\t\\t- Color intensity\\n \\t\\t- Hue\\n \\t\\t- OD280/OD315 of diluted wines\\n \\t\\t- Proline\\n\\n    - class:\\n            - class_0\\n            - class_1\\n            - class_2\\n\\t\\t\\n    :Summary Statistics:\\n    \\n    ============================= ==== ===== ======= =====\\n                                   Min   Max   Mean     SD\\n    ============================= ==== ===== ======= =====\\n    Alcohol:                      11.0  14.8    13.0   0.8\\n    Malic Acid:                   0.74  5.80    2.34  1.12\\n    Ash:                          1.36  3.23    2.36  0.27\\n    Alcalinity of Ash:            10.6  30.0    19.5   3.3\\n    Magnesium:                    70.0 162.0    99.7  14.3\\n    Total Phenols:                0.98  3.88    2.29  0.63\\n    Flavanoids:                   0.34  5.08    2.03  1.00\\n    Nonflavanoid Phenols:         0.13  0.66    0.36  0.12\\n    Proanthocyanins:              0.41  3.58    1.59  0.57\\n    Colour Intensity:              1.3  13.0     5.1   2.3\\n    Hue:                          0.48  1.71    0.96  0.23\\n    OD280/OD315 of diluted wines: 1.27  4.00    2.61  0.71\\n    Proline:                       278  1680     746   315\\n    ============================= ==== ===== ======= =====\\n\\n    :Missing Attribute Values: None\\n    :Class Distribution: class_0 (59), class_1 (71), class_2 (48)\\n    :Creator: R.A. Fisher\\n    :Donor: Michael Marshall (MARSHALL%PLU@io.arc.nasa.gov)\\n    :Date: July, 1988\\n\\nThis is a copy of UCI ML Wine recognition datasets.\\nhttps://archive.ics.uci.edu/ml/machine-learning-databases/wine/wine.data\\n\\nThe data is the results of a chemical analysis of wines grown in the same\\nregion in Italy by three different cultivators. There are thirteen different\\nmeasurements taken for different constituents found in the three types of\\nwine.\\n\\nOriginal Owners: \\n\\nForina, M. et al, PARVUS - \\nAn Extendible Package for Data Exploration, Classification and Correlation. \\nInstitute of Pharmaceutical and Food Analysis and Technologies,\\nVia Brigata Salerno, 16147 Genoa, Italy.\\n\\nCitation:\\n\\nLichman, M. (2013). UCI Machine Learning Repository\\n[https://archive.ics.uci.edu/ml]. Irvine, CA: University of California,\\nSchool of Information and Computer Science. \\n\\n.. topic:: References\\n\\n  (1) S. Aeberhard, D. Coomans and O. de Vel, \\n  Comparison of Classifiers in High Dimensional Settings, \\n  Tech. Rep. no. 92-02, (1992), Dept. of Computer Science and Dept. of  \\n  Mathematics and Statistics, James Cook University of North Queensland. \\n  (Also submitted to Technometrics). \\n\\n  The data was used with many others for comparing various \\n  classifiers. The classes are separable, though only RDA \\n  has achieved 100% correct classification. \\n  (RDA : 100%, QDA 99.4%, LDA 98.9%, 1NN 96.1% (z-transformed data)) \\n  (All results using the leave-one-out technique) \\n\\n  (2) S. Aeberhard, D. Coomans and O. de Vel, \\n  \"THE CLASSIFICATION PERFORMANCE OF RDA\" \\n  Tech. Rep. no. 92-01, (1992), Dept. of Computer Science and Dept. of \\n  Mathematics and Statistics, James Cook University of North Queensland. \\n  (Also submitted to Journal of Chemometrics).\\n'"
            ],
            "application/vnd.google.colaboratory.intrinsic+json": {
              "type": "string"
            }
          },
          "metadata": {},
          "execution_count": 258
        }
      ]
    },
    {
      "cell_type": "markdown",
      "source": [
        "Textual answer to question 1 goes here.\n",
        "There are 178 rows and 14 columns.\n",
        "There are three classes.\n",
        "There are no missing values."
      ],
      "metadata": {
        "id": "Od1B4oGdbaSC"
      }
    },
    {
      "cell_type": "markdown",
      "source": [
        "# Question 2 (10 points)\n",
        "\n",
        "Remove class_2, so it becomes a binary problem now. Split the dataset into a testing and a training set using 65% of the data for training and the rest for testing. Use the built-in sklearn functionality for this, any other way will not be graded."
      ],
      "metadata": {
        "id": "Hl5dZFu7lDg5"
      }
    },
    {
      "cell_type": "code",
      "source": [
        "##### Code block for Question 2\n",
        "\n",
        "from sklearn.model_selection import train_test_split\n",
        "\n",
        "wine_no_class_2 = wine_dataframe.frame[wine_dataframe.target != 2]\n",
        "\n",
        "#wine_no_class_2\n",
        "\n",
        "\n",
        "wine_train, wine_test = train_test_split(wine_no_class_2,\n",
        "                                   random_state = 1234, \n",
        "                                   test_size = 0.65)\n",
        "#wine_train\n",
        "#wine_test\n",
        "#wine_no_class_2"
      ],
      "metadata": {
        "id": "QDAUtNuAlUyI"
      },
      "execution_count": 163,
      "outputs": []
    },
    {
      "cell_type": "markdown",
      "source": [
        "# Question 3 (30 points)\n",
        "\n",
        "Use the perceptron algorithm (with default settings and the correct seed) to build a model on the training set and report the model's accuracy."
      ],
      "metadata": {
        "id": "V6grDh8FlVtS"
      }
    },
    {
      "cell_type": "code",
      "source": [
        "##### Code block for Question 3\n",
        "\n",
        "from sklearn.linear_model import Perceptron\n",
        "\n",
        "wine_perceptron = Perceptron(random_state=1234)\n",
        "\n",
        "wine_perceptron.fit(wine_train, wine_train.target)\n",
        "\n",
        "wine_perceptron.score(wine_train, wine_train.target)"
      ],
      "metadata": {
        "id": "OAmTADedkDN0",
        "colab": {
          "base_uri": "https://localhost:8080/",
          "height": 0
        },
        "outputId": "fda4d595-8422-4649-cad4-82a49f9fe89a"
      },
      "execution_count": 164,
      "outputs": [
        {
          "output_type": "execute_result",
          "data": {
            "text/plain": [
              "0.8222222222222222"
            ]
          },
          "metadata": {},
          "execution_count": 164
        }
      ]
    },
    {
      "cell_type": "markdown",
      "source": [
        "# Question 4 (20 points)\n",
        "\n",
        "Show the classification report for the built model. In the text cell, following the code block for question 4, descibe what findings can be infered from the classification report. Mention at least 3 observations."
      ],
      "metadata": {
        "id": "UDBERCfzkTIK"
      }
    },
    {
      "cell_type": "code",
      "source": [
        "##### Code block for Question 4\n",
        "\n",
        "from sklearn.metrics import classification_report\n",
        "\n",
        "wine_predicted = wine_perceptron.predict(wine_test)\n",
        "\n",
        "print(classification_report(wine_test.target, wine_predicted))"
      ],
      "metadata": {
        "id": "OlQED2C0kSQ-",
        "colab": {
          "base_uri": "https://localhost:8080/",
          "height": 0
        },
        "outputId": "c61cd7be-bfb7-4fc3-a707-93d49778718c"
      },
      "execution_count": 165,
      "outputs": [
        {
          "output_type": "stream",
          "name": "stdout",
          "text": [
            "              precision    recall  f1-score   support\n",
            "\n",
            "           0       0.72      0.92      0.80        36\n",
            "           1       0.92      0.73      0.82        49\n",
            "\n",
            "    accuracy                           0.81        85\n",
            "   macro avg       0.82      0.83      0.81        85\n",
            "weighted avg       0.84      0.81      0.81        85\n",
            "\n"
          ]
        }
      ]
    },
    {
      "cell_type": "markdown",
      "source": [
        "Textual answer to question 4 goes here. \n",
        "The precision for 1 is higher than the precision for 0.\n",
        "The recall for 0 is higher than the recall for 1.\n",
        "The f1-scores are about the same, and show that this is a decent model.\n",
        "The support for 1 is higher than the support for 0.\n",
        "The accuracy is very close to the perceptron accuracy.\n"
      ],
      "metadata": {
        "id": "axlGZ10EkumL"
      }
    },
    {
      "cell_type": "markdown",
      "source": [
        "# Question 5 (30 points)\n",
        "\n",
        "Use the trained model to make predictions on the test set. Output AND plot the confusion matrix from the model's predictions. \n",
        "\n",
        "In the second code cell, plot side by side: On the left side, the test set and its labels (using features Alcohol as the X axis and Alcalinity of Ash as the Y axis) with each point colored depending its class label. On the right side, the actual predictions (use the same Alcohol as the X axis and Alcalinity of Ash as the Y axis) with each point colored depending on its class label."
      ],
      "metadata": {
        "id": "D5FbmbFolUE-"
      }
    },
    {
      "cell_type": "code",
      "source": [
        "##### Code block for Question 5 - part 1\n",
        "\n",
        "from sklearn.metrics import confusion_matrix, ConfusionMatrixDisplay\n",
        "\n",
        "wine_confusion_matrix = confusion_matrix(wine_test.target, wine_predicted)\n",
        "print(wine_confusion_matrix)\n",
        "\n",
        "display = ConfusionMatrixDisplay(confusion_matrix = wine_confusion_matrix)\n",
        "display.plot()\n",
        "plt.show()"
      ],
      "metadata": {
        "id": "7-wRvWY7mvJ4",
        "colab": {
          "base_uri": "https://localhost:8080/",
          "height": 320
        },
        "outputId": "602d6240-91a5-4c91-9a94-8c901d9109b4"
      },
      "execution_count": 166,
      "outputs": [
        {
          "output_type": "stream",
          "name": "stdout",
          "text": [
            "[[33  3]\n",
            " [13 36]]\n"
          ]
        },
        {
          "output_type": "display_data",
          "data": {
            "text/plain": [
              "<Figure size 432x288 with 2 Axes>"
            ],
            "image/png": "[encoded data removed]"
          },
          "metadata": {}
        }
      ]
    },
    {
      "cell_type": "code",
      "source": [
        "##### Code block for Question 5 - part 2\n",
        "# In the second code cell, plot side by side: \n",
        "# On the left side, the test set and its labels (using features Alcohol as the X axis and Alcalinity of Ash as the Y axis) with each point colored depending its class label. \n",
        "# On the right side, the actual predictions (use the same Alcohol as the X axis and Alcalinity of Ash as the Y axis) with each point colored depending on its class label.\n",
        "\n",
        "AlcoholTestX = wine_test.loc[:,\"alcohol\"]\n",
        "AlcalinityTestY = wine_test.loc[:,\"alcalinity_of_ash\"]\n",
        "\n",
        "wine_predicted_dataframe = pd.DataFrame(wine_predicted)\n",
        "\n",
        "Colors1 = []\n",
        "for x in wine_test.target:\n",
        "  if x == 0:\n",
        "   Colors1.append(\"red\")\n",
        "  else:\n",
        "   Colors1.append(\"green\")\n",
        "\n",
        "Colors2 = []\n",
        "for x in wine_predicted[0]:\n",
        "  if x == 0:\n",
        "   Colors2.append(\"orange\")\n",
        "  else:\n",
        "   Colors2.append(\"blue\")\n",
        "\n",
        "fig, (ax1, ax2) = plt.subplots(1, 2)\n",
        "\n",
        "ax1.scatter(AlcoholTestX, AlcalinityTestY, c = Colors1)\n",
        "ax2.scatter(AlcoholTestX, AlcalinityTestY, c = Colors2)\n",
        "plt.show()\n"
      ],
      "metadata": {
        "id": "y-pa14x0myPD",
        "colab": {
          "base_uri": "https://localhost:8080/",
          "height": 268
        },
        "outputId": "67896408-3d80-4ef3-93a3-91c35c6fc41f"
      },
      "execution_count": 254,
      "outputs": [
        {
          "output_type": "display_data",
          "data": {
            "text/plain": [
              "<Figure size 432x288 with 2 Axes>"
            ],
            "image/png": "[encoded data removed]"
          },
          "metadata": {}
        }
      ]
    },
    {
      "cell_type": "markdown",
      "source": [
        "# Question 6 (10 points) \n",
        "\n",
        "a) Do the plot right plot on Question 5 - part 2 match the confusion matrix of part 1?\n",
        "\n",
        "b) Any interesting observations from the predictions and the model performance? (write at least 2)"
      ],
      "metadata": {
        "id": "d0uKcXIWm2gZ"
      }
    },
    {
      "cell_type": "markdown",
      "source": [
        "Textual answer to question 6 a goes here. Yes"
      ],
      "metadata": {
        "id": "fUv67lIDnQVt"
      }
    },
    {
      "cell_type": "markdown",
      "source": [
        "Textual answer to question 6 b goes here. The two plots are almost the same. The second plots appears to be slimmer."
      ],
      "metadata": {
        "id": "vekeBSBBnS8d"
      }
    },
    {
      "cell_type": "markdown",
      "source": [
        "# Question 7 (10 points)\n",
        "\n",
        "Reload the Wine dataset and split the dataset into a testing and a training set using 65% of the data for training and the rest for testing. Use the built-in sklearn functionality for this, any other way will not be graded."
      ],
      "metadata": {
        "id": "5FAvUA_LptZA"
      }
    },
    {
      "cell_type": "code",
      "source": [
        "##### Code block for Question 7\n",
        "\n",
        "wine_dataframe2 = datasets.load_wine(as_frame = True)\n",
        "\n",
        "wine_train2, wine_test2 = train_test_split(wine_dataframe2.frame,\n",
        "                                   random_state = 1234, \n",
        "                                   test_size = 0.65)\n",
        "#wine_train2\n",
        "#wine_test2"
      ],
      "metadata": {
        "id": "OVEa6yRHpsVp"
      },
      "execution_count": 91,
      "outputs": []
    },
    {
      "cell_type": "markdown",
      "source": [
        "# Question 8 (30 points)\n",
        "\n",
        "Use the Decision Tree algorithm (with default settings and the correct seed) to build a model on the training set and report the model's accuracy."
      ],
      "metadata": {
        "id": "7GCTkGwOqFP7"
      }
    },
    {
      "cell_type": "code",
      "source": [
        "##### Code block for Question 8\n",
        "\n",
        "from sklearn.tree import DecisionTreeClassifier\n",
        "\n",
        "wine_tree = DecisionTreeClassifier().fit(wine_train2, wine_train2.target)\n",
        "\n",
        "wine_tree.score(wine_train2, wine_train2.target)"
      ],
      "metadata": {
        "id": "io8-k2M-prgl",
        "colab": {
          "base_uri": "https://localhost:8080/",
          "height": 0
        },
        "outputId": "728612c7-b6e5-49c6-fa18-12f74b62bb0e"
      },
      "execution_count": 113,
      "outputs": [
        {
          "output_type": "execute_result",
          "data": {
            "text/plain": [
              "1.0"
            ]
          },
          "metadata": {},
          "execution_count": 113
        }
      ]
    },
    {
      "cell_type": "markdown",
      "source": [
        "# Question 9 (20 points)\n",
        "\n",
        "Show the classification report for the built model. In the text cell, following the code block for question 9, descibe what findings can be infered from the classification report. Mention at least 3 observations."
      ],
      "metadata": {
        "id": "3VYbQk6ZqsjC"
      }
    },
    {
      "cell_type": "code",
      "source": [
        "##### Code block for Question 9\n",
        "\n",
        "wine_predicted2 = wine_tree.predict(wine_test2)\n",
        "\n",
        "print(classification_report(wine_test2.target, wine_predicted2))"
      ],
      "metadata": {
        "id": "qRZWpYIBq0aA",
        "colab": {
          "base_uri": "https://localhost:8080/",
          "height": 0
        },
        "outputId": "da5d870f-4dd5-42cc-bc6d-cc864535c152"
      },
      "execution_count": 106,
      "outputs": [
        {
          "output_type": "stream",
          "name": "stdout",
          "text": [
            "              precision    recall  f1-score   support\n",
            "\n",
            "           0       1.00      1.00      1.00        37\n",
            "           1       1.00      1.00      1.00        43\n",
            "           2       1.00      1.00      1.00        36\n",
            "\n",
            "    accuracy                           1.00       116\n",
            "   macro avg       1.00      1.00      1.00       116\n",
            "weighted avg       1.00      1.00      1.00       116\n",
            "\n"
          ]
        }
      ]
    },
    {
      "cell_type": "markdown",
      "source": [
        "Textual answer to question 9 goes here.\n",
        "All of the numbers are 1 except for the support colomn.\n",
        "The accuracy, macro average, and weighted average for support are equal.\n",
        "This is a very good model for the data."
      ],
      "metadata": {
        "id": "HeH9Cdnzq1QF"
      }
    },
    {
      "cell_type": "markdown",
      "source": [
        "# Question 10 (30 points)\n",
        "\n",
        "Use the trained model to make predictions on the test set. Output AND plot the confusion matrix from the model's predictions. \n",
        "\n",
        "In the second code cell, plot side by side: On the left side, the test set and its labels (using features Alcohol as the X axis and Alcalinity of Ash as the Y axis) with each point colored depending its class label. On the right side, the actual predictions (use the same Alcohol as the X axis and Alcalinity of Ash as the Y axis) with each point colored depending on its class label."
      ],
      "metadata": {
        "id": "CIqq_7v0rIhB"
      }
    },
    {
      "cell_type": "code",
      "source": [
        "##### Code block for Question 10 - part 1\n",
        "\n",
        "wine_confusion_matrix2 = confusion_matrix(wine_test2.target, wine_predicted2)\n",
        "print(wine_confusion_matrix2)\n",
        "\n",
        "display = ConfusionMatrixDisplay(confusion_matrix = wine_confusion_matrix2)\n",
        "display.plot()\n",
        "plt.show()"
      ],
      "metadata": {
        "id": "GFT8khVUrQ_2",
        "colab": {
          "base_uri": "https://localhost:8080/",
          "height": 337
        },
        "outputId": "05c8f962-d79b-488e-ab20-47da457e7398"
      },
      "execution_count": 107,
      "outputs": [
        {
          "output_type": "stream",
          "name": "stdout",
          "text": [
            "[[37  0  0]\n",
            " [ 0 43  0]\n",
            " [ 0  0 36]]\n"
          ]
        },
        {
          "output_type": "display_data",
          "data": {
            "text/plain": [
              "<Figure size 432x288 with 2 Axes>"
            ],
            "image/png": "[encoded data removed]"
          },
          "metadata": {}
        }
      ]
    },
    {
      "cell_type": "code",
      "source": [
        "##### Code block for Question 10 - part 2\n",
        "# In the second code cell, plot side by side: \n",
        "# On the left side, the test set and its labels (using features Alcohol as the X axis and Alcalinity of Ash as the Y axis) with each point colored depending its class label. \n",
        "# On the right side, the actual predictions (use the same Alcohol as the X axis and Alcalinity of Ash as the Y axis) with each point colored depending on its class label.\n",
        "\n",
        "AlcoholTest2X = wine_test2.loc[:,\"alcohol\"]\n",
        "AlcalinityTest2Y = wine_test2.loc[:,\"alcalinity_of_ash\"]\n",
        "\n",
        "wine_predicted_dataframe2 = pd.DataFrame(wine_predicted2)\n",
        "\n",
        "Colors1 = []\n",
        "for x in wine_test2.target:\n",
        "  if x == 0:\n",
        "   Colors1.append(\"red\")\n",
        "  else:\n",
        "   Colors1.append(\"green\")\n",
        "\n",
        "Colors2 = []\n",
        "for x in wine_predicted_dataframe2[0]:\n",
        "  if x == 0:\n",
        "   Colors2.append(\"orange\")\n",
        "  else:\n",
        "   Colors2.append(\"blue\")\n",
        "\n",
        "fig, (ax1, ax2) = plt.subplots(1, 2)\n",
        "\n",
        "ax1.scatter(AlcoholTest2X, AlcalinityTest2Y, c = Colors1)\n",
        "ax2.scatter(AlcoholTest2X, AlcalinityTest2Y, c = Colors2)\n",
        "plt.show()\n"
      ],
      "metadata": {
        "id": "Zoh1vJDArQ_3",
        "colab": {
          "base_uri": "https://localhost:8080/",
          "height": 268
        },
        "outputId": "abbae839-4527-4974-9645-751dd393c9f6"
      },
      "execution_count": 252,
      "outputs": [
        {
          "output_type": "display_data",
          "data": {
            "text/plain": [
              "<Figure size 432x288 with 2 Axes>"
            ],
            "image/png": "[encoded data removed]"
          },
          "metadata": {}
        }
      ]
    },
    {
      "cell_type": "markdown",
      "source": [
        "# Question 11 (30 points) \n",
        "\n",
        "a) Do the plot right plot on Question 10 - part 2 match the confusion matrix of part 1?\n",
        "\n",
        "b) Any interesting observations from the predictions and the model performance? (write at least 2)\n",
        "\n",
        "c) Plot the figure from question 10 - part 2 using the `visualize_classifier` function given during the class example from 2/20/2023."
      ],
      "metadata": {
        "id": "MoOX9SsqrY1m"
      }
    },
    {
      "cell_type": "markdown",
      "source": [
        "Textual answer to question 11 a goes here. No"
      ],
      "metadata": {
        "id": "qDsw0eoyrY1n"
      }
    },
    {
      "cell_type": "markdown",
      "source": [
        "Textual answer to question 11 b goes here. The two plots are very similar. There are only 2 classes being displayed."
      ],
      "metadata": {
        "id": "5CBnH3bQrY1o"
      }
    },
    {
      "cell_type": "code",
      "source": [
        "##### Code block for Question 11 - part c"
      ],
      "metadata": {
        "id": "JU01ze5mryO5"
      },
      "execution_count": 255,
      "outputs": []
    },
    {
      "cell_type": "markdown",
      "source": [
        "# Question 12 (10 points)\n",
        "\n",
        "Reload the Wine dataset and split the dataset into a testing and a training set using 65% of the data for training and the rest for testing. Use the built-in sklearn functionality for this, any other way will not be graded."
      ],
      "metadata": {
        "id": "VyZzK3XpsBgd"
      }
    },
    {
      "cell_type": "code",
      "source": [
        "##### Code block for Question 12\n",
        "\n",
        "wine_dataframe3 = datasets.load_wine(as_frame = True)\n",
        "\n",
        "wine_train3, wine_test3 = train_test_split(wine_dataframe3.frame,\n",
        "                                   random_state = 1234, \n",
        "                                   test_size = 0.65)"
      ],
      "metadata": {
        "id": "hGTZs31MsBge"
      },
      "execution_count": 96,
      "outputs": []
    },
    {
      "cell_type": "markdown",
      "source": [
        "# Question 13 (30 points)\n",
        "\n",
        "Use the Logistic Regression (with as this is a multi-class problem, use the **One Vs Rest algorithm** we must use `liblinear` solver and the correct seed) to build a model on the training set and report the model's accuracy."
      ],
      "metadata": {
        "id": "FTWIgD0rsBge"
      }
    },
    {
      "cell_type": "code",
      "source": [
        "##### Code block for Question 13\n",
        "\n",
        "from sklearn.linear_model import LogisticRegression\n",
        "from sklearn.multiclass import OneVsRestClassifier\n",
        "\n",
        "logreg = OneVsRestClassifier(estimator = LogisticRegression(solver = \"liblinear\", random_state = 1234))\n",
        "logreg.fit(wine_train3, wine_train3.target)\n",
        "\n",
        "logreg.score(wine_train3, wine_train3.target)"
      ],
      "metadata": {
        "id": "7uu_vP4OsBgf",
        "colab": {
          "base_uri": "https://localhost:8080/",
          "height": 0
        },
        "outputId": "c385b85f-72ba-4306-f9f9-5c836799b35d"
      },
      "execution_count": 112,
      "outputs": [
        {
          "output_type": "execute_result",
          "data": {
            "text/plain": [
              "1.0"
            ]
          },
          "metadata": {},
          "execution_count": 112
        }
      ]
    },
    {
      "cell_type": "markdown",
      "source": [
        "# Question 14 (20 points)\n",
        "\n",
        "Show the classification report for the built model. In the text cell, following the code block for question 14, descibe what findings can be infered from the classification report. Mention at least 3 observations."
      ],
      "metadata": {
        "id": "nU8SRq6TsBgf"
      }
    },
    {
      "cell_type": "code",
      "source": [
        "##### Code block for Question 14\n",
        "\n",
        "wine_predicted3 = logreg.predict(wine_test3)\n",
        "\n",
        "print(classification_report(wine_test3.target, wine_predicted3))"
      ],
      "metadata": {
        "id": "pXIQ7hO6sBgf",
        "colab": {
          "base_uri": "https://localhost:8080/",
          "height": 0
        },
        "outputId": "f2440832-7dfd-43bb-c2b7-8ba50f9c41e2"
      },
      "execution_count": 108,
      "outputs": [
        {
          "output_type": "stream",
          "name": "stdout",
          "text": [
            "              precision    recall  f1-score   support\n",
            "\n",
            "           0       1.00      0.84      0.91        37\n",
            "           1       0.86      0.98      0.91        43\n",
            "           2       0.97      0.97      0.97        36\n",
            "\n",
            "    accuracy                           0.93       116\n",
            "   macro avg       0.94      0.93      0.93       116\n",
            "weighted avg       0.94      0.93      0.93       116\n",
            "\n"
          ]
        }
      ]
    },
    {
      "cell_type": "markdown",
      "source": [
        "Textual answer to question 14 goes here.\n",
        "The precision for 0 is perfect. Most of the numbers are close to 1.\n",
        "The accuracy, macro average, and weighted average for support are equal.\n",
        "This is a pretty good model for the data."
      ],
      "metadata": {
        "id": "LVep3OJ1sBgf"
      }
    },
    {
      "cell_type": "markdown",
      "source": [
        "# Question 15 (30 points)\n",
        "\n",
        "Use the trained model to make predictions on the test set. Output AND plot the confusion matrix from the model's predictions. \n",
        "\n",
        "In the second code cell, plot side by side: On the left side, the test set and its labels (using features Alcohol as the X axis and Alcalinity of Ash as the Y axis) with each point colored depending its class label. On the right side, the actual predictions (use the same Alcohol as the X axis and Alcalinity of Ash as the Y axis) with each point colored depending on its class label."
      ],
      "metadata": {
        "id": "1DQxkgAbsBgg"
      }
    },
    {
      "cell_type": "code",
      "source": [
        "##### Code block for Question 15 - part 1\n",
        "\n",
        "wine_confusion_matrix3 = confusion_matrix(wine_test3.target, wine_predicted3)\n",
        "print(wine_confusion_matrix3)\n",
        "\n",
        "display = ConfusionMatrixDisplay(confusion_matrix = wine_confusion_matrix3)\n",
        "display.plot()\n",
        "plt.show()"
      ],
      "metadata": {
        "id": "l9A4AifNsBgg",
        "colab": {
          "base_uri": "https://localhost:8080/",
          "height": 337
        },
        "outputId": "f6e50df3-4555-4a69-ca43-d9b1dd63de11"
      },
      "execution_count": 109,
      "outputs": [
        {
          "output_type": "stream",
          "name": "stdout",
          "text": [
            "[[31  6  0]\n",
            " [ 0 42  1]\n",
            " [ 0  1 35]]\n"
          ]
        },
        {
          "output_type": "display_data",
          "data": {
            "text/plain": [
              "<Figure size 432x288 with 2 Axes>"
            ],
            "image/png": "[encoded data removed]"
          },
          "metadata": {}
        }
      ]
    },
    {
      "cell_type": "code",
      "source": [
        "##### Code block for Question 15 - part 2\n",
        "\n",
        "AlcoholTest3X = wine_test3.loc[:,\"alcohol\"]\n",
        "AlcalinityTest3Y = wine_test3.loc[:,\"alcalinity_of_ash\"]\n",
        "\n",
        "wine_predicted_dataframe3 = pd.DataFrame(wine_predicted3)\n",
        "\n",
        "Colors1 = []\n",
        "for x in wine_test3.target:\n",
        "  if x == 0:\n",
        "   Colors1.append(\"red\")\n",
        "  else:\n",
        "   Colors1.append(\"green\")\n",
        "\n",
        "Colors2 = []\n",
        "for x in wine_predicted_dataframe3[0]:\n",
        "  if x == 0:\n",
        "   Colors2.append(\"orange\")\n",
        "  else:\n",
        "   Colors2.append(\"blue\")\n",
        "\n",
        "fig, (ax1, ax2) = plt.subplots(1, 2)\n",
        "\n",
        "ax1.scatter(AlcoholTest3X, AlcalinityTest3Y, c = Colors1)\n",
        "ax2.scatter(AlcoholTest3X, AlcalinityTest3Y, c = Colors2)\n",
        "plt.show()"
      ],
      "metadata": {
        "id": "wF7X9vnGsBgg",
        "colab": {
          "base_uri": "https://localhost:8080/",
          "height": 268
        },
        "outputId": "60bc95e5-0373-4072-c842-0a7dc91d76ec"
      },
      "execution_count": 253,
      "outputs": [
        {
          "output_type": "display_data",
          "data": {
            "text/plain": [
              "<Figure size 432x288 with 2 Axes>"
            ],
            "image/png": "[encoded data removed]"
          },
          "metadata": {}
        }
      ]
    },
    {
      "cell_type": "markdown",
      "source": [
        "# Question 16 (20 points) \n",
        "\n",
        "a) Do the plot right plot on Question 15 - part 2 match the confusion matrix of part 1?\n",
        "\n",
        "b) Any interesting observations from the predictions and the model performance? (write at least 2)"
      ],
      "metadata": {
        "id": "7Fh0OKRzsBgh"
      }
    },
    {
      "cell_type": "markdown",
      "source": [
        "Textual answer to question 16 a goes here. No"
      ],
      "metadata": {
        "id": "67skrMZwsBgh"
      }
    },
    {
      "cell_type": "markdown",
      "source": [
        "Textual answer to question 16 b goes here. They are somewhat similar. Plot 1 has more stray points."
      ],
      "metadata": {
        "id": "bWus1xG9sBgh"
      }
    },
    {
      "cell_type": "markdown",
      "source": [
        "# Question 17 (10 points)\n",
        "\n",
        "Create AND display dataframe containing in each row the accruacy, precision, recall for each of the models built. \n",
        "\n",
        "In the textual answer cell, discuss which one is the best performing model and why?"
      ],
      "metadata": {
        "id": "W888Kt2Btame"
      }
    },
    {
      "cell_type": "code",
      "source": [
        "##### Code block for Question 17"
      ],
      "metadata": {
        "id": "WdrGJIy3tZlc"
      },
      "execution_count": 256,
      "outputs": []
    },
    {
      "cell_type": "markdown",
      "source": [
        "Textual answer to question 17 goes here. Descision tree. It had the best score, and the two plots looked the almost the same."
      ],
      "metadata": {
        "id": "VEnK8F_Lt5V8"
      }
    },
    {
      "cell_type": "markdown",
      "source": [
        "# Graduate Student Question: (50 points)\n",
        "\n",
        "Modify the `visualize_classifier` function provided during the 2/20/2023 class to be able to work in 3 dimensions (currently only works in two dimensions). Take the Decision Tree classifier model from Question 8 and plot the separation of the classes using the following axes: (Alcohol as the X axis and Alcalinity of Ash as the Y axis, and Ash as the Z axis).\n"
      ],
      "metadata": {
        "id": "ziqaH6VEuBJK"
      }
    },
    {
      "cell_type": "code",
      "source": [
        "##### Code block for Graduate Student Question"
      ],
      "metadata": {
        "id": "a17SE-ZcuALz"
      },
      "execution_count": 257,
      "outputs": []
    }
  ]
}